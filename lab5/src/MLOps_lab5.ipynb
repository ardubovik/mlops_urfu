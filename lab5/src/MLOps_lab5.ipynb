{
  "cells": [
    {
      "cell_type": "code",
      "execution_count": null,
      "metadata": {
        "colab": {
          "base_uri": "https://localhost:8080/"
        },
        "id": "0EhsxLxQznV-",
        "outputId": "9091f574-1926-4103-f29e-020b2b6dd330"
      },
      "outputs": [
        {
          "name": "stdout",
          "output_type": "stream",
          "text": [
            "Overwriting test_df_mse.py\n"
          ]
        }
      ],
      "source": [
        "%%writefile test_df_mse.py\n",
        "\n",
        "# импорт библиотек\n",
        "\n",
        "import numpy as np\n",
        "import pandas as pd\n",
        "import matplotlib.pyplot as plt\n",
        "from sklearn.linear_model import LinearRegression\n",
        "from sklearn.metrics import mean_squared_error\n",
        "\n",
        "# функция генерации данных\n",
        "def generate_data(start, stop, num=100, noise=None):\n",
        "    x = np.linspace(start, stop, num)\n",
        "    y  = x + np.random.random(num) * 2 - 1\n",
        "    x = pd.DataFrame(x, columns=['feature'])\n",
        "\n",
        "    if noise is not None:\n",
        "        y[int(num * 0.25):int(num * 0.45)] *= noise\n",
        "\n",
        "    return x, y\n",
        "\n",
        "# генерация данных с качественными данными\n",
        "x_1, y_1 = generate_data(0, 10)\n",
        "x_2, y_2 = generate_data(0, 10)\n",
        "x_3, y_3 = generate_data(0, 10)\n",
        "\n",
        "q_data = ((x_1, y_1, ), (x_2, y_2, ), (x_3, y_3, ),)\n",
        "\n",
        "# генерация данных с шумом\n",
        "n_x, n_y = generate_data(0, 10, noise=2)\n",
        "\n",
        "\n",
        "# визуализация качественных данных\n",
        "for i, (x, y) in enumerate(q_data, start=1):\n",
        "    plt.scatter(x, y)\n",
        "    plt.title('Qualitative data № {}'.format(i))\n",
        "    plt.show()\n",
        "\n",
        "# визуализация данных с шумом\n",
        "plt.scatter(n_x, n_y)\n",
        "plt.title('Data with noise')\n",
        "plt.show()\n",
        "\n",
        "# создание модели линейной регрессии\n",
        "model = LinearRegression()\n",
        "\n",
        "# Обучение модели на одном из датасетов (2) с качественными данными\n",
        "model.fit(x_2, y_2)\n",
        "\n",
        "#  MSE работы модели\n",
        "def check_model(X_test, y_test, model):\n",
        "    y_pred = model.predict(X_test)\n",
        "    return mean_squared_error(y_test, y_pred)\n",
        "\n",
        "# максимальный MSE на качественных данных\n",
        "max_mse = max(mean_squared_error(y, model.predict(x)) for x, y in q_data)\n",
        "\n",
        "# сравнение MSE с эталонным\n",
        "def check_mse(x_test, y_test, name):\n",
        "    mse = check_model(x_test, y_test, model)\n",
        "    print('Датасет {}. MSE: {}'.format(name, mse))\n",
        "\n",
        "    # можно и с assert, но чтобы не отображать найденную ошибку - сейчас сделал через if для визуализации!\n",
        "\n",
        "    # assert mse <= max_mse, 'Внимание!: в датасете {} присутствует шум !!! MSE: {}'.format(name, mse)\n",
        "\n",
        "    if mse > max_mse:\n",
        "        print('Внимание!!! В датасете {} присутствует шум. MSE: {}'.format(name, mse))\n",
        "\n",
        "\n",
        "# тестирование MSE датасетов без шума\n",
        "def test_datasets_without_noise():\n",
        "    for i, (x, y) in enumerate(q_data, start=1):\n",
        "        # для вывода assert раскоментировать его в check_mse\n",
        "        check_mse(x, y, i)\n",
        "\n",
        "# тестирование MSE для датасета с шумом\n",
        "def test_datasets_with_noise():\n",
        "    # длявывода assert раскоментировать его в check_mse\n",
        "    check_mse(n_x, n_y, 4)\n",
        "\n",
        "\n",
        "#test_datasets_without_noise()\n",
        "#test_datasets_with_noise()\n"
      ]
    },
    {
      "cell_type": "code",
      "execution_count": null,
      "metadata": {
        "colab": {
          "base_uri": "https://localhost:8080/"
        },
        "id": "sxaGxg9BC8ye",
        "outputId": "e83cfb15-807d-4519-f20d-54e2f8b761d1"
      },
      "outputs": [
        {
          "name": "stdout",
          "output_type": "stream",
          "text": [
            "\u001b[1m======================================= test session starts ========================================\u001b[0m\n",
            "platform linux -- Python 3.10.12, pytest-7.4.4, pluggy-1.5.0\n",
            "rootdir: /content\n",
            "plugins: anyio-3.7.1\n",
            "\u001b[1mcollecting ... \u001b[0mFigure(640x480)\n",
            "Figure(640x480)\n",
            "Figure(640x480)\n",
            "Figure(640x480)\n",
            "collected 2 items                                                                                  \u001b[0m\n",
            "\n",
            "test_df_mse.py Датасет 1. MSE: 0.34933127619784854\n",
            "Датасет 2. MSE: 0.3379993827820544\n",
            "Датасет 3. MSE: 0.32073951430327163\n",
            "\u001b[32m.\u001b[0mДатасет 4. MSE: 2.7477683409574376\n",
            "Внимание!!! В датасете 4 присутствует шум. MSE: 2.7477683409574376\n",
            "\u001b[32m.\u001b[0m\n",
            "\n",
            "\u001b[32m======================================== \u001b[32m\u001b[1m2 passed\u001b[0m\u001b[32m in 2.62s\u001b[0m\u001b[32m =========================================\u001b[0m\n"
          ]
        }
      ],
      "source": [
        "# pytest\n",
        "# предварительно нужно запустить предыдущий блок с кодом\n",
        "!pytest test_df_mse.py -s"
      ]
    }
  ],
  "metadata": {
    "colab": {
      "provenance": []
    },
    "kernelspec": {
      "display_name": "Python 3.8.10 ('env')",
      "language": "python",
      "name": "python3"
    },
    "language_info": {
      "name": "python",
      "version": "3.8.10"
    },
    "vscode": {
      "interpreter": {
        "hash": "3c63998c4e358cbff681667c37f1c0bf94be5af4acbf3a7cb7f0fbb4789748b7"
      }
    }
  },
  "nbformat": 4,
  "nbformat_minor": 0
}
